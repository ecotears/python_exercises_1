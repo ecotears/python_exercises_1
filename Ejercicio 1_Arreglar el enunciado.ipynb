{
 "cells": [
  {
   "cell_type": "markdown",
   "id": "19da67e3-ecda-4d39-a325-66791efcc640",
   "metadata": {},
   "source": [
    "#### Exercise\n",
    "Now it's your turn to try converting from int to str. Perform the following tasks:\n",
    "\n",
    "1. Create a variable `age` and assign your age as an integer.\n",
    "2. Convert the variable `age` to a string using the `str()` function.\n",
    "3. Concatenate the string \"My age is: \" with the variable `age` (now a string) and store the result in a new variable called `message`.\n",
    "4. Print the variable `message` to the console.\n"
   ]
  }
 ],
 "metadata": {
  "kernelspec": {
   "display_name": "Python 3 (ipykernel)",
   "language": "python",
   "name": "python3"
  },
  "language_info": {
   "codemirror_mode": {
    "name": "ipython",
    "version": 3
   },
   "file_extension": ".py",
   "mimetype": "text/x-python",
   "name": "python",
   "nbconvert_exporter": "python",
   "pygments_lexer": "ipython3",
   "version": "3.10.12"
  }
 },
 "nbformat": 4,
 "nbformat_minor": 5
}
