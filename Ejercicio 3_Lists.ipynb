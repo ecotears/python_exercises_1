{
 "cells": [
  {
   "cell_type": "markdown",
   "id": "f645c9a5-b935-4f10-94ea-d00efdd701bb",
   "metadata": {},
   "source": [
    "Exercise: Working with Lists\n",
    "\n",
    "1. Create a list called months that contains the names of all the months of the year.\n",
    "2. Use the append method to add an extra element to the list that is \"End of Year\".\n",
    "3. Use the remove method to delete this last element you added.\n",
    "4. Using slicing, create a new list that contains only the months of the second quarter (April, May, and June).\n",
    "5. Use the reverse method to reverse the order of the elements in the original list of months.\n",
    "6. Find the appropriate method to sort the list of months in alphabetical order and apply it.\n",
    "7. Use the index method to find the position of your birth month in the list sorted alphabetically.\n",
    "   \n",
    "**Extra**\n",
    "\n",
    "* Create a list of lists, where each sublist contains the months of each quarter.\n",
    "* Use a for loop to print each month of each quarter, formatting the output as follows: \"The {month number} month of the year is {month name}\"."
   ]
  },
  {
   "cell_type": "code",
   "execution_count": 10,
   "id": "4aec8dbe-58a2-4a84-af90-8cac2239f5bf",
   "metadata": {},
   "outputs": [
    {
     "data": {
      "text/plain": [
       "['Enero',\n",
       " 'Febrero',\n",
       " 'Marzo',\n",
       " 'Abril',\n",
       " 'Mayo',\n",
       " 'Junio',\n",
       " 'Julio',\n",
       " 'Agosto',\n",
       " 'Septiembre',\n",
       " 'Octubre',\n",
       " 'Noviembre',\n",
       " 'Diciembre']"
      ]
     },
     "execution_count": 10,
     "metadata": {},
     "output_type": "execute_result"
    }
   ],
   "source": [
    "months_list = ['Enero', 'Febrero', 'Marzo', 'Abril', 'Mayo','Junio', 'Julio', 'Agosto', 'Septiembre', 'Octubre', 'Noviembre', 'Diciembre']\n",
    "months_list"
   ]
  },
  {
   "cell_type": "code",
   "execution_count": 13,
   "id": "42bfde32-d170-4c4b-bbf4-de3c7261eadf",
   "metadata": {},
   "outputs": [
    {
     "data": {
      "text/plain": [
       "['Enero',\n",
       " 'Febrero',\n",
       " 'Marzo',\n",
       " 'Abril',\n",
       " 'Mayo',\n",
       " 'Junio',\n",
       " 'Julio',\n",
       " 'Agosto',\n",
       " 'Septiembre',\n",
       " 'Octubre',\n",
       " 'Noviembre',\n",
       " 'Diciembre',\n",
       " 'End of Year',\n",
       " 'End of Year',\n",
       " 'End of Year']"
      ]
     },
     "execution_count": 13,
     "metadata": {},
     "output_type": "execute_result"
    }
   ],
   "source": [
    "months_list.append('End of Year')\n",
    "months_list"
   ]
  },
  {
   "cell_type": "code",
   "execution_count": 17,
   "id": "3167d827-bae6-416b-9614-5a7d040b0427",
   "metadata": {},
   "outputs": [],
   "source": [
    "months_list.remove('End of Year')"
   ]
  },
  {
   "cell_type": "code",
   "execution_count": 18,
   "id": "e74168f1-9ddb-4a18-ae4d-83285b009145",
   "metadata": {},
   "outputs": [
    {
     "data": {
      "text/plain": [
       "['Enero',\n",
       " 'Febrero',\n",
       " 'Marzo',\n",
       " 'Abril',\n",
       " 'Mayo',\n",
       " 'Junio',\n",
       " 'Julio',\n",
       " 'Agosto',\n",
       " 'Septiembre',\n",
       " 'Octubre',\n",
       " 'Noviembre',\n",
       " 'Diciembre']"
      ]
     },
     "execution_count": 18,
     "metadata": {},
     "output_type": "execute_result"
    }
   ],
   "source": [
    "months_list"
   ]
  },
  {
   "cell_type": "code",
   "execution_count": 24,
   "id": "76680b34-a896-43ee-b0b8-477137d23e04",
   "metadata": {},
   "outputs": [
    {
     "data": {
      "text/plain": [
       "['Abril', 'Mayo', 'Junio']"
      ]
     },
     "execution_count": 24,
     "metadata": {},
     "output_type": "execute_result"
    }
   ],
   "source": [
    "months_list1 = months_list[3:6]\n",
    "months_list1"
   ]
  },
  {
   "cell_type": "code",
   "execution_count": 25,
   "id": "dddab0e6-ba26-454d-a04a-00998f7e0d67",
   "metadata": {},
   "outputs": [],
   "source": [
    "months_list.reverse()"
   ]
  },
  {
   "cell_type": "code",
   "execution_count": 26,
   "id": "ef13daaa-53d4-43a2-8d2e-9c0b4d617e93",
   "metadata": {},
   "outputs": [
    {
     "data": {
      "text/plain": [
       "['Diciembre',\n",
       " 'Noviembre',\n",
       " 'Octubre',\n",
       " 'Septiembre',\n",
       " 'Agosto',\n",
       " 'Julio',\n",
       " 'Junio',\n",
       " 'Mayo',\n",
       " 'Abril',\n",
       " 'Marzo',\n",
       " 'Febrero',\n",
       " 'Enero']"
      ]
     },
     "execution_count": 26,
     "metadata": {},
     "output_type": "execute_result"
    }
   ],
   "source": [
    "months_list"
   ]
  },
  {
   "cell_type": "code",
   "execution_count": 27,
   "id": "3a6de2ad-0c00-4cfc-aa34-b5270446acc1",
   "metadata": {},
   "outputs": [],
   "source": [
    "months_list.sort()"
   ]
  },
  {
   "cell_type": "code",
   "execution_count": 28,
   "id": "6f0b39e2-53b2-4669-8a23-d4c9a96e8ade",
   "metadata": {},
   "outputs": [
    {
     "data": {
      "text/plain": [
       "['Abril',\n",
       " 'Agosto',\n",
       " 'Diciembre',\n",
       " 'Enero',\n",
       " 'Febrero',\n",
       " 'Julio',\n",
       " 'Junio',\n",
       " 'Marzo',\n",
       " 'Mayo',\n",
       " 'Noviembre',\n",
       " 'Octubre',\n",
       " 'Septiembre']"
      ]
     },
     "execution_count": 28,
     "metadata": {},
     "output_type": "execute_result"
    }
   ],
   "source": [
    "months_list"
   ]
  },
  {
   "cell_type": "code",
   "execution_count": 29,
   "id": "bb3bcac2-e217-4ca8-829b-636101b35c22",
   "metadata": {},
   "outputs": [
    {
     "data": {
      "text/plain": [
       "2"
      ]
     },
     "execution_count": 29,
     "metadata": {},
     "output_type": "execute_result"
    }
   ],
   "source": [
    "months_list.index(\"Diciembre\")"
   ]
  },
  {
   "cell_type": "code",
   "execution_count": 30,
   "id": "e034b504-2e95-4d18-9894-715c6a711093",
   "metadata": {},
   "outputs": [
    {
     "data": {
      "text/plain": [
       "[['Jan', 'Feb', 'Mar'],\n",
       " ['Apr', 'May', 'Jun'],\n",
       " ['Jul', 'Aug', 'Sep'],\n",
       " ['Oct', 'Nov', 'Dec']]"
      ]
     },
     "execution_count": 30,
     "metadata": {},
     "output_type": "execute_result"
    }
   ],
   "source": [
    "month_quarter= [['Jan','Feb','Mar'],['Apr','May','Jun'],['Jul','Aug','Sep'],['Oct','Nov','Dec']]\n",
    "month_quarter"
   ]
  },
  {
   "cell_type": "code",
   "execution_count": 54,
   "id": "1328a139-89ad-42b7-a41c-9e014ace7075",
   "metadata": {},
   "outputs": [
    {
     "name": "stdout",
     "output_type": "stream",
     "text": [
      "The 1 month of the year is Jan\n",
      "The 2 month of the year is Feb\n",
      "The 3 month of the year is Mar\n",
      "The 4 month of the year is Apr\n",
      "The 5 month of the year is May\n",
      "The 6 month of the year is Jun\n",
      "The 7 month of the year is Jul\n",
      "The 8 month of the year is Aug\n",
      "The 9 month of the year is Sep\n",
      "The 10 month of the year is Oct\n",
      "The 11 month of the year is Nov\n",
      "The 12 month of the year is Dec\n"
     ]
    }
   ],
   "source": [
    "for i in range (0, len(month_quarter)):\n",
    "        for j in range (0,len(month_quarter[i])):\n",
    "            print (\"The {} month of the year is {}\".format(i*3+j+1,month_quarter[i][j]))"
   ]
  },
  {
   "cell_type": "code",
   "execution_count": 66,
   "id": "666eb75c-2a83-476a-bee5-409e8c0ba513",
   "metadata": {},
   "outputs": [
    {
     "data": {
      "text/plain": [
       "['Abril',\n",
       " 'Agosto',\n",
       " 'Diciembre',\n",
       " 'Enero',\n",
       " 'Febrero',\n",
       " 'Julio',\n",
       " 'Junio',\n",
       " 'Marzo',\n",
       " 'Mayo',\n",
       " 'Noviembre',\n",
       " 'Octubre',\n",
       " 'Septiembre']"
      ]
     },
     "execution_count": 66,
     "metadata": {},
     "output_type": "execute_result"
    }
   ],
   "source": [
    "months_list.sort()\n",
    "\n",
    "months_list"
   ]
  },
  {
   "cell_type": "code",
   "execution_count": 68,
   "id": "d4178d1a-2a7c-4fd3-8021-9bf184a27a83",
   "metadata": {},
   "outputs": [
    {
     "name": "stdout",
     "output_type": "stream",
     "text": [
      "The 1 month of the year is Abril\n",
      "The 2 month of the year is Agosto\n",
      "The 3 month of the year is Diciembre\n",
      "The 4 month of the year is Enero\n",
      "The 5 month of the year is Febrero\n",
      "The 6 month of the year is Julio\n",
      "The 7 month of the year is Junio\n",
      "The 8 month of the year is Marzo\n",
      "The 9 month of the year is Mayo\n",
      "The 10 month of the year is Noviembre\n",
      "The 11 month of the year is Octubre\n",
      "The 12 month of the year is Septiembre\n"
     ]
    }
   ],
   "source": [
    "for i in range (0,len(months_list)):\n",
    "    print (f\"The {i+1} month of the year is {months_list[i]}\")"
   ]
  }
 ],
 "metadata": {
  "kernelspec": {
   "display_name": "Python 3 (ipykernel)",
   "language": "python",
   "name": "python3"
  },
  "language_info": {
   "codemirror_mode": {
    "name": "ipython",
    "version": 3
   },
   "file_extension": ".py",
   "mimetype": "text/x-python",
   "name": "python",
   "nbconvert_exporter": "python",
   "pygments_lexer": "ipython3",
   "version": "3.10.12"
  }
 },
 "nbformat": 4,
 "nbformat_minor": 5
}
