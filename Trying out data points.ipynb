{
 "cells": [
  {
   "cell_type": "code",
   "execution_count": 10,
   "id": "81447bf3-3977-4b2d-968d-f0f7b04aaff9",
   "metadata": {},
   "outputs": [
    {
     "data": {
      "text/plain": [
       "12"
      ]
     },
     "execution_count": 10,
     "metadata": {},
     "output_type": "execute_result"
    }
   ],
   "source": [
    "a = 11\n",
    "b = 12\n",
    "a\n",
    "b"
   ]
  },
  {
   "cell_type": "code",
   "execution_count": 11,
   "id": "d57f3c7b-6ac1-463f-9fc8-52275e0e94b9",
   "metadata": {},
   "outputs": [
    {
     "name": "stdout",
     "output_type": "stream",
     "text": [
      "10\n"
     ]
    },
    {
     "data": {
      "text/plain": [
       "12"
      ]
     },
     "execution_count": 11,
     "metadata": {},
     "output_type": "execute_result"
    }
   ],
   "source": [
    "a = 10\n",
    "b = 12\n",
    "print(a)\n",
    "b"
   ]
  },
  {
   "cell_type": "code",
   "execution_count": 13,
   "id": "f8f878b4-a10d-4b3f-a932-2250a69e76fe",
   "metadata": {},
   "outputs": [],
   "source": [
    "variable_2 = 110.311"
   ]
  },
  {
   "cell_type": "code",
   "execution_count": 15,
   "id": "fd442df3-55e3-40e6-9b01-570b81df649b",
   "metadata": {},
   "outputs": [
    {
     "data": {
      "text/plain": [
       "float"
      ]
     },
     "execution_count": 15,
     "metadata": {},
     "output_type": "execute_result"
    }
   ],
   "source": [
    "type(variable_2)"
   ]
  },
  {
   "cell_type": "code",
   "execution_count": 19,
   "id": "d69cedc5-4529-4bf5-9e34-ff1d710c4550",
   "metadata": {},
   "outputs": [
    {
     "name": "stdout",
     "output_type": "stream",
     "text": [
      "False\n"
     ]
    },
    {
     "data": {
      "text/plain": [
       "True"
      ]
     },
     "execution_count": 19,
     "metadata": {},
     "output_type": "execute_result"
    }
   ],
   "source": [
    "x=False\n",
    "y=True\n",
    "\n",
    "print(x)\n",
    "y"
   ]
  },
  {
   "cell_type": "code",
   "execution_count": 21,
   "id": "2b4aff80-dcd9-4a83-acb9-42c63a0f3e05",
   "metadata": {},
   "outputs": [],
   "source": [
    "variable_1='This is just a random text'"
   ]
  },
  {
   "cell_type": "code",
   "execution_count": 23,
   "id": "e52117d9-db58-4b35-956a-d65902052658",
   "metadata": {},
   "outputs": [
    {
     "data": {
      "text/plain": [
       "'THIS IS JUST A RANDOM TEXT'"
      ]
     },
     "execution_count": 23,
     "metadata": {},
     "output_type": "execute_result"
    }
   ],
   "source": [
    "variable_1.upper()"
   ]
  },
  {
   "cell_type": "code",
   "execution_count": 24,
   "id": "97acfb7c-1370-48c0-8186-5faee4300406",
   "metadata": {},
   "outputs": [],
   "source": [
    "import math"
   ]
  },
  {
   "cell_type": "code",
   "execution_count": 25,
   "id": "4c0d2f0b-4530-4712-a49a-0d813ee4832f",
   "metadata": {},
   "outputs": [
    {
     "data": {
      "text/plain": [
       "5.0"
      ]
     },
     "execution_count": 25,
     "metadata": {},
     "output_type": "execute_result"
    }
   ],
   "source": [
    "10/2"
   ]
  },
  {
   "cell_type": "code",
   "execution_count": 26,
   "id": "155cc4da-0c6e-4769-9e0c-430e671c7578",
   "metadata": {},
   "outputs": [],
   "source": [
    "x=10.6"
   ]
  },
  {
   "cell_type": "code",
   "execution_count": 27,
   "id": "cd6734cb-cbbf-4112-ac8b-e40df454e7f4",
   "metadata": {},
   "outputs": [
    {
     "data": {
      "text/plain": [
       "11"
      ]
     },
     "execution_count": 27,
     "metadata": {},
     "output_type": "execute_result"
    }
   ],
   "source": [
    "round(x)"
   ]
  },
  {
   "cell_type": "code",
   "execution_count": 29,
   "id": "679a6444-913e-4139-b03e-b5b085a2477a",
   "metadata": {},
   "outputs": [
    {
     "data": {
      "text/plain": [
       "10.6"
      ]
     },
     "execution_count": 29,
     "metadata": {},
     "output_type": "execute_result"
    }
   ],
   "source": [
    "x"
   ]
  },
  {
   "cell_type": "code",
   "execution_count": 30,
   "id": "a7597220-54ed-490d-ae21-47ea064315d0",
   "metadata": {},
   "outputs": [],
   "source": [
    "x=int(round(x))"
   ]
  },
  {
   "cell_type": "code",
   "execution_count": 31,
   "id": "c53c4cc2-3181-433e-a3d0-a7524b6f8031",
   "metadata": {},
   "outputs": [
    {
     "data": {
      "text/plain": [
       "11"
      ]
     },
     "execution_count": 31,
     "metadata": {},
     "output_type": "execute_result"
    }
   ],
   "source": [
    "x"
   ]
  },
  {
   "cell_type": "code",
   "execution_count": 32,
   "id": "842edeb1-d04c-460d-85e7-b30d7dd7b55c",
   "metadata": {},
   "outputs": [
    {
     "name": "stdout",
     "output_type": "stream",
     "text": [
      "<class 'float'>\n"
     ]
    }
   ],
   "source": [
    "a = 3.14159\n",
    "print(type(a))"
   ]
  },
  {
   "cell_type": "code",
   "execution_count": 33,
   "id": "c3d2a0bf-806f-4e43-893f-c98a4847bbeb",
   "metadata": {},
   "outputs": [],
   "source": [
    "tupla = (1,23,2421,4234,12,'a')"
   ]
  },
  {
   "cell_type": "code",
   "execution_count": 34,
   "id": "18727de8-a51e-46f9-b1c2-3ce9ae46fda2",
   "metadata": {},
   "outputs": [],
   "source": [
    "tupla = tuple(reversed(tupla))"
   ]
  },
  {
   "cell_type": "code",
   "execution_count": 35,
   "id": "a74551f0-c6b3-49be-a95a-8730e4f8861d",
   "metadata": {},
   "outputs": [
    {
     "data": {
      "text/plain": [
       "('a', 12, 4234, 2421, 23, 1)"
      ]
     },
     "execution_count": 35,
     "metadata": {},
     "output_type": "execute_result"
    }
   ],
   "source": [
    "tupla"
   ]
  }
 ],
 "metadata": {
  "kernelspec": {
   "display_name": "Python 3 (ipykernel)",
   "language": "python",
   "name": "python3"
  },
  "language_info": {
   "codemirror_mode": {
    "name": "ipython",
    "version": 3
   },
   "file_extension": ".py",
   "mimetype": "text/x-python",
   "name": "python",
   "nbconvert_exporter": "python",
   "pygments_lexer": "ipython3",
   "version": "3.10.12"
  }
 },
 "nbformat": 4,
 "nbformat_minor": 5
}
