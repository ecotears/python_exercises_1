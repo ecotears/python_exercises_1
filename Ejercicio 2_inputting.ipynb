{
 "cells": [
  {
   "cell_type": "markdown",
   "id": "cc87f8a6-c67f-4070-873f-df68c5f1ef66",
   "metadata": {},
   "source": [
    "#### Exercise\n",
    "\n",
    "Now that we've learned several ways to format strings in Python, it's time to put our knowledge into practice. In this exercise, we'll ask you to use the `input()` function to request certain information from the user, and then `format` that information using at least two of the methods we've discussed previously (concatenation with '+', using commas, f-strings, or the .format() method).\n",
    "\n",
    "Instructions:\n",
    "\n",
    "1. Ask the user to enter their name and age using the `input()` function.\n",
    "2. Create a greeting message that includes the user's name and age, using two different string formatting methods.\n",
    "3. Print both messages on the console to verify your work."
   ]
  },
  {
   "cell_type": "code",
   "execution_count": 3,
   "id": "c1467839-d1ad-484c-a517-0e29ecd0c79c",
   "metadata": {},
   "outputs": [
    {
     "name": "stdin",
     "output_type": "stream",
     "text": [
      "Please write your name:  Probando\n",
      "Please also write yoru age here:  100\n"
     ]
    },
    {
     "name": "stdout",
     "output_type": "stream",
     "text": [
      "Hello my name is Probando and I am 100 years old\n"
     ]
    }
   ],
   "source": [
    "name=input(\"Please write your name: \")\n",
    "age=int(input(\"Please also write yoru age here: \"))\n",
    "welcome_message = 'Hello my name is {} and I am {} years old'.format(name,age)\n",
    "\n",
    "print (welcome_message)"
   ]
  },
  {
   "cell_type": "code",
   "execution_count": 9,
   "id": "c382dc9d-bfe1-4f05-9025-febfb39221ed",
   "metadata": {},
   "outputs": [],
   "source": [
    "welcome_message_2 = f\"Hello my name is {name} and I am {age} years old\""
   ]
  },
  {
   "cell_type": "code",
   "execution_count": 11,
   "id": "dcd15eee-69fc-42dc-a480-2fae342a60b0",
   "metadata": {},
   "outputs": [
    {
     "name": "stdout",
     "output_type": "stream",
     "text": [
      "Hello my name is Probando and I am 100 years old\n"
     ]
    }
   ],
   "source": [
    "print (welcome_message_2)"
   ]
  }
 ],
 "metadata": {
  "kernelspec": {
   "display_name": "Python 3 (ipykernel)",
   "language": "python",
   "name": "python3"
  },
  "language_info": {
   "codemirror_mode": {
    "name": "ipython",
    "version": 3
   },
   "file_extension": ".py",
   "mimetype": "text/x-python",
   "name": "python",
   "nbconvert_exporter": "python",
   "pygments_lexer": "ipython3",
   "version": "3.10.12"
  }
 },
 "nbformat": 4,
 "nbformat_minor": 5
}
